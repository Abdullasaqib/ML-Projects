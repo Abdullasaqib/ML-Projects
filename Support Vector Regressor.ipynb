{
 "cells": [
  {
   "cell_type": "code",
   "execution_count": 1,
   "id": "d2c861d7",
   "metadata": {},
   "outputs": [],
   "source": [
    "# Step 1: Importing The Libraries\n",
    "import sklearn\n",
    "import pandas as pd"
   ]
  },
  {
   "cell_type": "code",
   "execution_count": 2,
   "id": "8e93df09",
   "metadata": {},
   "outputs": [],
   "source": [
    "# Now Step 2\n",
    "# Step 2: Importing The Data\n",
    "df = pd.read_csv(\"D:/Datasets/Machine Learning/employees.csv\")"
   ]
  },
  {
   "cell_type": "code",
   "execution_count": 3,
   "id": "f2ea6d51",
   "metadata": {
    "scrolled": true
   },
   "outputs": [
    {
     "data": {
      "text/html": [
       "<div>\n",
       "<style scoped>\n",
       "    .dataframe tbody tr th:only-of-type {\n",
       "        vertical-align: middle;\n",
       "    }\n",
       "\n",
       "    .dataframe tbody tr th {\n",
       "        vertical-align: top;\n",
       "    }\n",
       "\n",
       "    .dataframe thead th {\n",
       "        text-align: right;\n",
       "    }\n",
       "</style>\n",
       "<table border=\"1\" class=\"dataframe\">\n",
       "  <thead>\n",
       "    <tr style=\"text-align: right;\">\n",
       "      <th></th>\n",
       "      <th>Emp_ID</th>\n",
       "      <th>Emp_Name</th>\n",
       "      <th>Department_Name</th>\n",
       "      <th>Gender</th>\n",
       "      <th>Age</th>\n",
       "      <th>Position</th>\n",
       "      <th>Experience_Years</th>\n",
       "      <th>Salary</th>\n",
       "    </tr>\n",
       "  </thead>\n",
       "  <tbody>\n",
       "    <tr>\n",
       "      <th>0</th>\n",
       "      <td>1</td>\n",
       "      <td>Employee_1</td>\n",
       "      <td>NaN</td>\n",
       "      <td>female</td>\n",
       "      <td>53.0</td>\n",
       "      <td>Senior Employee</td>\n",
       "      <td>3</td>\n",
       "      <td>72927</td>\n",
       "    </tr>\n",
       "    <tr>\n",
       "      <th>1</th>\n",
       "      <td>2</td>\n",
       "      <td>Employee_2</td>\n",
       "      <td>HR</td>\n",
       "      <td>?</td>\n",
       "      <td>NaN</td>\n",
       "      <td>CEO</td>\n",
       "      <td>28</td>\n",
       "      <td>155171</td>\n",
       "    </tr>\n",
       "    <tr>\n",
       "      <th>2</th>\n",
       "      <td>3</td>\n",
       "      <td>Employee_3</td>\n",
       "      <td>Administration</td>\n",
       "      <td>female</td>\n",
       "      <td>58.0</td>\n",
       "      <td>CEO</td>\n",
       "      <td>34</td>\n",
       "      <td>297132</td>\n",
       "    </tr>\n",
       "    <tr>\n",
       "      <th>3</th>\n",
       "      <td>4</td>\n",
       "      <td>Employee_4</td>\n",
       "      <td>Administration</td>\n",
       "      <td>male</td>\n",
       "      <td>26.0</td>\n",
       "      <td>Clerk</td>\n",
       "      <td>2</td>\n",
       "      <td>41838</td>\n",
       "    </tr>\n",
       "    <tr>\n",
       "      <th>4</th>\n",
       "      <td>5</td>\n",
       "      <td>Employee_5</td>\n",
       "      <td>Administration</td>\n",
       "      <td>male</td>\n",
       "      <td>33.0</td>\n",
       "      <td>CEO</td>\n",
       "      <td>33</td>\n",
       "      <td>154743</td>\n",
       "    </tr>\n",
       "  </tbody>\n",
       "</table>\n",
       "</div>"
      ],
      "text/plain": [
       "   Emp_ID    Emp_Name Department_Name  Gender   Age         Position  \\\n",
       "0       1  Employee_1             NaN  female  53.0  Senior Employee   \n",
       "1       2  Employee_2              HR       ?   NaN              CEO   \n",
       "2       3  Employee_3  Administration  female  58.0              CEO   \n",
       "3       4  Employee_4  Administration    male  26.0            Clerk   \n",
       "4       5  Employee_5  Administration    male  33.0              CEO   \n",
       "\n",
       "   Experience_Years  Salary  \n",
       "0                 3   72927  \n",
       "1                28  155171  \n",
       "2                34  297132  \n",
       "3                 2   41838  \n",
       "4                33  154743  "
      ]
     },
     "execution_count": 3,
     "metadata": {},
     "output_type": "execute_result"
    }
   ],
   "source": [
    "# Step 3: Data Pre-Processing/Data Cleaning\n",
    "df.head()"
   ]
  },
  {
   "cell_type": "code",
   "execution_count": 4,
   "id": "c77cc069",
   "metadata": {},
   "outputs": [
    {
     "name": "stdout",
     "output_type": "stream",
     "text": [
      "<class 'pandas.core.frame.DataFrame'>\n",
      "RangeIndex: 900 entries, 0 to 899\n",
      "Data columns (total 8 columns):\n",
      " #   Column            Non-Null Count  Dtype  \n",
      "---  ------            --------------  -----  \n",
      " 0   Emp_ID            900 non-null    int64  \n",
      " 1   Emp_Name          900 non-null    object \n",
      " 2   Department_Name   727 non-null    object \n",
      " 3   Gender            900 non-null    object \n",
      " 4   Age               815 non-null    float64\n",
      " 5   Position          900 non-null    object \n",
      " 6   Experience_Years  900 non-null    int64  \n",
      " 7   Salary            900 non-null    int64  \n",
      "dtypes: float64(1), int64(3), object(4)\n",
      "memory usage: 56.4+ KB\n"
     ]
    }
   ],
   "source": [
    "df.info()"
   ]
  },
  {
   "cell_type": "code",
   "execution_count": 5,
   "id": "d47edec5",
   "metadata": {},
   "outputs": [],
   "source": [
    "df.drop(columns=['Emp_ID','Emp_Name'],inplace=True)"
   ]
  },
  {
   "cell_type": "code",
   "execution_count": 6,
   "id": "743984ce",
   "metadata": {},
   "outputs": [],
   "source": [
    "df['Department_Name'] = df['Department_Name'].fillna('Administration')"
   ]
  },
  {
   "cell_type": "code",
   "execution_count": 7,
   "id": "b5773b29",
   "metadata": {},
   "outputs": [],
   "source": [
    "df['Gender'] = df['Gender'].replace({'?':'female'})"
   ]
  },
  {
   "cell_type": "code",
   "execution_count": 8,
   "id": "b7f30809",
   "metadata": {},
   "outputs": [],
   "source": [
    "df['Age'] = df['Age'].fillna(40.7)"
   ]
  },
  {
   "cell_type": "code",
   "execution_count": 9,
   "id": "1b4e215b",
   "metadata": {},
   "outputs": [
    {
     "name": "stdout",
     "output_type": "stream",
     "text": [
      "<class 'pandas.core.frame.DataFrame'>\n",
      "RangeIndex: 900 entries, 0 to 899\n",
      "Data columns (total 6 columns):\n",
      " #   Column            Non-Null Count  Dtype  \n",
      "---  ------            --------------  -----  \n",
      " 0   Department_Name   900 non-null    object \n",
      " 1   Gender            900 non-null    object \n",
      " 2   Age               900 non-null    float64\n",
      " 3   Position          900 non-null    object \n",
      " 4   Experience_Years  900 non-null    int64  \n",
      " 5   Salary            900 non-null    int64  \n",
      "dtypes: float64(1), int64(2), object(3)\n",
      "memory usage: 42.3+ KB\n"
     ]
    }
   ],
   "source": [
    "df.info()"
   ]
  },
  {
   "cell_type": "code",
   "execution_count": 10,
   "id": "9ce5d607",
   "metadata": {},
   "outputs": [],
   "source": [
    "from sklearn.preprocessing import LabelEncoder\n",
    "encoder = LabelEncoder()"
   ]
  },
  {
   "cell_type": "code",
   "execution_count": 11,
   "id": "03461006",
   "metadata": {},
   "outputs": [],
   "source": [
    "df['Gender'] = encoder.fit_transform(df['Gender'])"
   ]
  },
  {
   "cell_type": "code",
   "execution_count": 12,
   "id": "21cc391a",
   "metadata": {},
   "outputs": [],
   "source": [
    "df['Department_Name'] = encoder.fit_transform(df['Department_Name'])"
   ]
  },
  {
   "cell_type": "code",
   "execution_count": 13,
   "id": "5957bbcb",
   "metadata": {},
   "outputs": [],
   "source": [
    "df['Position'] = encoder.fit_transform(df['Position'])"
   ]
  },
  {
   "cell_type": "code",
   "execution_count": 14,
   "id": "2dfebcba",
   "metadata": {},
   "outputs": [
    {
     "data": {
      "text/html": [
       "<div>\n",
       "<style scoped>\n",
       "    .dataframe tbody tr th:only-of-type {\n",
       "        vertical-align: middle;\n",
       "    }\n",
       "\n",
       "    .dataframe tbody tr th {\n",
       "        vertical-align: top;\n",
       "    }\n",
       "\n",
       "    .dataframe thead th {\n",
       "        text-align: right;\n",
       "    }\n",
       "</style>\n",
       "<table border=\"1\" class=\"dataframe\">\n",
       "  <thead>\n",
       "    <tr style=\"text-align: right;\">\n",
       "      <th></th>\n",
       "      <th>Department_Name</th>\n",
       "      <th>Gender</th>\n",
       "      <th>Age</th>\n",
       "      <th>Position</th>\n",
       "      <th>Experience_Years</th>\n",
       "      <th>Salary</th>\n",
       "    </tr>\n",
       "  </thead>\n",
       "  <tbody>\n",
       "    <tr>\n",
       "      <th>0</th>\n",
       "      <td>0</td>\n",
       "      <td>0</td>\n",
       "      <td>53.0</td>\n",
       "      <td>6</td>\n",
       "      <td>3</td>\n",
       "      <td>72927</td>\n",
       "    </tr>\n",
       "    <tr>\n",
       "      <th>1</th>\n",
       "      <td>1</td>\n",
       "      <td>0</td>\n",
       "      <td>40.7</td>\n",
       "      <td>0</td>\n",
       "      <td>28</td>\n",
       "      <td>155171</td>\n",
       "    </tr>\n",
       "    <tr>\n",
       "      <th>2</th>\n",
       "      <td>0</td>\n",
       "      <td>0</td>\n",
       "      <td>58.0</td>\n",
       "      <td>0</td>\n",
       "      <td>34</td>\n",
       "      <td>297132</td>\n",
       "    </tr>\n",
       "    <tr>\n",
       "      <th>3</th>\n",
       "      <td>0</td>\n",
       "      <td>1</td>\n",
       "      <td>26.0</td>\n",
       "      <td>1</td>\n",
       "      <td>2</td>\n",
       "      <td>41838</td>\n",
       "    </tr>\n",
       "    <tr>\n",
       "      <th>4</th>\n",
       "      <td>0</td>\n",
       "      <td>1</td>\n",
       "      <td>33.0</td>\n",
       "      <td>0</td>\n",
       "      <td>33</td>\n",
       "      <td>154743</td>\n",
       "    </tr>\n",
       "  </tbody>\n",
       "</table>\n",
       "</div>"
      ],
      "text/plain": [
       "   Department_Name  Gender   Age  Position  Experience_Years  Salary\n",
       "0                0       0  53.0         6                 3   72927\n",
       "1                1       0  40.7         0                28  155171\n",
       "2                0       0  58.0         0                34  297132\n",
       "3                0       1  26.0         1                 2   41838\n",
       "4                0       1  33.0         0                33  154743"
      ]
     },
     "execution_count": 14,
     "metadata": {},
     "output_type": "execute_result"
    }
   ],
   "source": [
    "df.head()"
   ]
  },
  {
   "cell_type": "code",
   "execution_count": 15,
   "id": "c9f829fa",
   "metadata": {},
   "outputs": [
    {
     "name": "stdout",
     "output_type": "stream",
     "text": [
      "<class 'pandas.core.frame.DataFrame'>\n",
      "RangeIndex: 900 entries, 0 to 899\n",
      "Data columns (total 6 columns):\n",
      " #   Column            Non-Null Count  Dtype  \n",
      "---  ------            --------------  -----  \n",
      " 0   Department_Name   900 non-null    int32  \n",
      " 1   Gender            900 non-null    int32  \n",
      " 2   Age               900 non-null    float64\n",
      " 3   Position          900 non-null    int32  \n",
      " 4   Experience_Years  900 non-null    int64  \n",
      " 5   Salary            900 non-null    int64  \n",
      "dtypes: float64(1), int32(3), int64(2)\n",
      "memory usage: 31.8 KB\n"
     ]
    }
   ],
   "source": [
    "df.info()"
   ]
  },
  {
   "cell_type": "code",
   "execution_count": 17,
   "id": "11d5ee39",
   "metadata": {},
   "outputs": [
    {
     "name": "stdout",
     "output_type": "stream",
     "text": [
      "<class 'pandas.core.frame.DataFrame'>\n",
      "RangeIndex: 900 entries, 0 to 899\n",
      "Data columns (total 6 columns):\n",
      " #   Column            Non-Null Count  Dtype  \n",
      "---  ------            --------------  -----  \n",
      " 0   Department_Name   900 non-null    int32  \n",
      " 1   Gender            900 non-null    int32  \n",
      " 2   Age               900 non-null    float64\n",
      " 3   Position          900 non-null    int32  \n",
      " 4   Experience_Years  900 non-null    int64  \n",
      " 5   Salary            900 non-null    int64  \n",
      "dtypes: float64(1), int32(3), int64(2)\n",
      "memory usage: 31.8 KB\n"
     ]
    }
   ],
   "source": [
    "df.info()"
   ]
  },
  {
   "cell_type": "code",
   "execution_count": 18,
   "id": "295b97d3",
   "metadata": {},
   "outputs": [],
   "source": [
    "# Step 4: Splitting The Data\n",
    "Vector = df.drop(columns='Salary') #Features\n",
    "Class = df['Salary'] #Target"
   ]
  },
  {
   "cell_type": "code",
   "execution_count": 19,
   "id": "73d7b4c7",
   "metadata": {},
   "outputs": [],
   "source": [
    "from sklearn.model_selection import train_test_split\n",
    "Vector_train, Vector_test, Class_train, Class_test = train_test_split(Vector,Class,test_size=0.2)"
   ]
  },
  {
   "cell_type": "code",
   "execution_count": 20,
   "id": "12696530",
   "metadata": {},
   "outputs": [],
   "source": [
    "# Step 5: Building The Model\n",
    "#     5.1: Initializing The Model\n",
    "from sklearn.svm import SVR\n",
    "vector_model = SVR()"
   ]
  },
  {
   "cell_type": "code",
   "execution_count": 21,
   "id": "008b49b2",
   "metadata": {},
   "outputs": [
    {
     "data": {
      "text/html": [
       "<style>#sk-container-id-1 {color: black;}#sk-container-id-1 pre{padding: 0;}#sk-container-id-1 div.sk-toggleable {background-color: white;}#sk-container-id-1 label.sk-toggleable__label {cursor: pointer;display: block;width: 100%;margin-bottom: 0;padding: 0.3em;box-sizing: border-box;text-align: center;}#sk-container-id-1 label.sk-toggleable__label-arrow:before {content: \"▸\";float: left;margin-right: 0.25em;color: #696969;}#sk-container-id-1 label.sk-toggleable__label-arrow:hover:before {color: black;}#sk-container-id-1 div.sk-estimator:hover label.sk-toggleable__label-arrow:before {color: black;}#sk-container-id-1 div.sk-toggleable__content {max-height: 0;max-width: 0;overflow: hidden;text-align: left;background-color: #f0f8ff;}#sk-container-id-1 div.sk-toggleable__content pre {margin: 0.2em;color: black;border-radius: 0.25em;background-color: #f0f8ff;}#sk-container-id-1 input.sk-toggleable__control:checked~div.sk-toggleable__content {max-height: 200px;max-width: 100%;overflow: auto;}#sk-container-id-1 input.sk-toggleable__control:checked~label.sk-toggleable__label-arrow:before {content: \"▾\";}#sk-container-id-1 div.sk-estimator input.sk-toggleable__control:checked~label.sk-toggleable__label {background-color: #d4ebff;}#sk-container-id-1 div.sk-label input.sk-toggleable__control:checked~label.sk-toggleable__label {background-color: #d4ebff;}#sk-container-id-1 input.sk-hidden--visually {border: 0;clip: rect(1px 1px 1px 1px);clip: rect(1px, 1px, 1px, 1px);height: 1px;margin: -1px;overflow: hidden;padding: 0;position: absolute;width: 1px;}#sk-container-id-1 div.sk-estimator {font-family: monospace;background-color: #f0f8ff;border: 1px dotted black;border-radius: 0.25em;box-sizing: border-box;margin-bottom: 0.5em;}#sk-container-id-1 div.sk-estimator:hover {background-color: #d4ebff;}#sk-container-id-1 div.sk-parallel-item::after {content: \"\";width: 100%;border-bottom: 1px solid gray;flex-grow: 1;}#sk-container-id-1 div.sk-label:hover label.sk-toggleable__label {background-color: #d4ebff;}#sk-container-id-1 div.sk-serial::before {content: \"\";position: absolute;border-left: 1px solid gray;box-sizing: border-box;top: 0;bottom: 0;left: 50%;z-index: 0;}#sk-container-id-1 div.sk-serial {display: flex;flex-direction: column;align-items: center;background-color: white;padding-right: 0.2em;padding-left: 0.2em;position: relative;}#sk-container-id-1 div.sk-item {position: relative;z-index: 1;}#sk-container-id-1 div.sk-parallel {display: flex;align-items: stretch;justify-content: center;background-color: white;position: relative;}#sk-container-id-1 div.sk-item::before, #sk-container-id-1 div.sk-parallel-item::before {content: \"\";position: absolute;border-left: 1px solid gray;box-sizing: border-box;top: 0;bottom: 0;left: 50%;z-index: -1;}#sk-container-id-1 div.sk-parallel-item {display: flex;flex-direction: column;z-index: 1;position: relative;background-color: white;}#sk-container-id-1 div.sk-parallel-item:first-child::after {align-self: flex-end;width: 50%;}#sk-container-id-1 div.sk-parallel-item:last-child::after {align-self: flex-start;width: 50%;}#sk-container-id-1 div.sk-parallel-item:only-child::after {width: 0;}#sk-container-id-1 div.sk-dashed-wrapped {border: 1px dashed gray;margin: 0 0.4em 0.5em 0.4em;box-sizing: border-box;padding-bottom: 0.4em;background-color: white;}#sk-container-id-1 div.sk-label label {font-family: monospace;font-weight: bold;display: inline-block;line-height: 1.2em;}#sk-container-id-1 div.sk-label-container {text-align: center;}#sk-container-id-1 div.sk-container {/* jupyter's `normalize.less` sets `[hidden] { display: none; }` but bootstrap.min.css set `[hidden] { display: none !important; }` so we also need the `!important` here to be able to override the default hidden behavior on the sphinx rendered scikit-learn.org. See: https://github.com/scikit-learn/scikit-learn/issues/21755 */display: inline-block !important;position: relative;}#sk-container-id-1 div.sk-text-repr-fallback {display: none;}</style><div id=\"sk-container-id-1\" class=\"sk-top-container\"><div class=\"sk-text-repr-fallback\"><pre>SVR()</pre><b>In a Jupyter environment, please rerun this cell to show the HTML representation or trust the notebook. <br />On GitHub, the HTML representation is unable to render, please try loading this page with nbviewer.org.</b></div><div class=\"sk-container\" hidden><div class=\"sk-item\"><div class=\"sk-estimator sk-toggleable\"><input class=\"sk-toggleable__control sk-hidden--visually\" id=\"sk-estimator-id-1\" type=\"checkbox\" checked><label for=\"sk-estimator-id-1\" class=\"sk-toggleable__label sk-toggleable__label-arrow\">SVR</label><div class=\"sk-toggleable__content\"><pre>SVR()</pre></div></div></div></div></div>"
      ],
      "text/plain": [
       "SVR()"
      ]
     },
     "execution_count": 21,
     "metadata": {},
     "output_type": "execute_result"
    }
   ],
   "source": [
    "# Step 5.2: Training The Model\n",
    "vector_model.fit(Vector_train,Class_train)"
   ]
  },
  {
   "cell_type": "code",
   "execution_count": 22,
   "id": "38a9745c",
   "metadata": {},
   "outputs": [],
   "source": [
    "# Step 5.3: Making Prediction From The Model\n",
    "Class_pred = vector_model.predict(Vector_test)"
   ]
  },
  {
   "cell_type": "code",
   "execution_count": 23,
   "id": "31acfac3",
   "metadata": {},
   "outputs": [
    {
     "name": "stdout",
     "output_type": "stream",
     "text": [
      "-12879369.082548138\n"
     ]
    }
   ],
   "source": [
    "# Step 5.4: Testing The Model\n",
    "from sklearn.metrics import r2_score, mean_squared_error\n",
    "print(r2_score(Class_pred,Class_test))"
   ]
  },
  {
   "cell_type": "code",
   "execution_count": 24,
   "id": "79f970c8",
   "metadata": {},
   "outputs": [
    {
     "name": "stdout",
     "output_type": "stream",
     "text": [
      "4509629140.262551\n"
     ]
    }
   ],
   "source": [
    "print(mean_squared_error(Class_pred,Class_test))"
   ]
  },
  {
   "cell_type": "code",
   "execution_count": null,
   "id": "e6852534",
   "metadata": {},
   "outputs": [],
   "source": []
  }
 ],
 "metadata": {
  "kernelspec": {
   "display_name": "Python 3 (ipykernel)",
   "language": "python",
   "name": "python3"
  },
  "language_info": {
   "codemirror_mode": {
    "name": "ipython",
    "version": 3
   },
   "file_extension": ".py",
   "mimetype": "text/x-python",
   "name": "python",
   "nbconvert_exporter": "python",
   "pygments_lexer": "ipython3",
   "version": "3.11.5"
  }
 },
 "nbformat": 4,
 "nbformat_minor": 5
}
