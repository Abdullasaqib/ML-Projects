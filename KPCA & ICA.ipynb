{
 "cells": [
  {
   "cell_type": "code",
   "execution_count": 1,
   "id": "5d68f298",
   "metadata": {},
   "outputs": [],
   "source": [
    "import sklearn\n",
    "import pandas as pd"
   ]
  },
  {
   "cell_type": "code",
   "execution_count": 14,
   "id": "f716fa47",
   "metadata": {},
   "outputs": [],
   "source": [
    "from sklearn.datasets import load_diabetes, load_iris\n",
    "disease = load_diabetes()\n",
    "iris = load_iris()\n",
    "data = disease.data\n",
    "data2 = iris.data"
   ]
  },
  {
   "cell_type": "code",
   "execution_count": 16,
   "id": "95ca24de",
   "metadata": {},
   "outputs": [],
   "source": [
    "from sklearn.preprocessing import StandardScaler\n",
    "scaler = StandardScaler()\n",
    "scaled_data = scaler.fit_transform(data)\n",
    "scaled_data2 = scaler.fit_transform(data2)"
   ]
  },
  {
   "cell_type": "code",
   "execution_count": 17,
   "id": "0617adf9",
   "metadata": {},
   "outputs": [],
   "source": [
    "from sklearn.decomposition import KernelPCA, FastICA\n",
    "dim_red = KernelPCA(n_components=4,kernel='rbf')\n",
    "dim_red2 = FastICA(n_components=2)"
   ]
  },
  {
   "cell_type": "code",
   "execution_count": 19,
   "id": "63ece24e",
   "metadata": {},
   "outputs": [],
   "source": [
    "reduced_data = dim_red.fit_transform(scaled_data)\n",
    "reduced_data2 = dim_red2.fit_transform(scaled_data2)"
   ]
  },
  {
   "cell_type": "code",
   "execution_count": 20,
   "id": "05382d10",
   "metadata": {},
   "outputs": [],
   "source": [
    "df = pd.DataFrame(reduced_data,columns=['1','2','3','4'])\n",
    "df2 = pd.DataFrame(reduced_data2,columns=['1','2'])"
   ]
  },
  {
   "cell_type": "code",
   "execution_count": 21,
   "id": "37d8c5ab",
   "metadata": {},
   "outputs": [
    {
     "data": {
      "text/html": [
       "<div>\n",
       "<style scoped>\n",
       "    .dataframe tbody tr th:only-of-type {\n",
       "        vertical-align: middle;\n",
       "    }\n",
       "\n",
       "    .dataframe tbody tr th {\n",
       "        vertical-align: top;\n",
       "    }\n",
       "\n",
       "    .dataframe thead th {\n",
       "        text-align: right;\n",
       "    }\n",
       "</style>\n",
       "<table border=\"1\" class=\"dataframe\">\n",
       "  <thead>\n",
       "    <tr style=\"text-align: right;\">\n",
       "      <th></th>\n",
       "      <th>1</th>\n",
       "      <th>2</th>\n",
       "      <th>3</th>\n",
       "      <th>4</th>\n",
       "    </tr>\n",
       "  </thead>\n",
       "  <tbody>\n",
       "    <tr>\n",
       "      <th>0</th>\n",
       "      <td>-0.260632</td>\n",
       "      <td>0.408065</td>\n",
       "      <td>0.068337</td>\n",
       "      <td>0.294265</td>\n",
       "    </tr>\n",
       "    <tr>\n",
       "      <th>1</th>\n",
       "      <td>0.516938</td>\n",
       "      <td>-0.156931</td>\n",
       "      <td>0.025718</td>\n",
       "      <td>-0.113454</td>\n",
       "    </tr>\n",
       "    <tr>\n",
       "      <th>2</th>\n",
       "      <td>-0.182362</td>\n",
       "      <td>0.395564</td>\n",
       "      <td>0.121163</td>\n",
       "      <td>0.151345</td>\n",
       "    </tr>\n",
       "    <tr>\n",
       "      <th>3</th>\n",
       "      <td>0.044566</td>\n",
       "      <td>-0.131207</td>\n",
       "      <td>-0.152106</td>\n",
       "      <td>-0.163608</td>\n",
       "    </tr>\n",
       "    <tr>\n",
       "      <th>4</th>\n",
       "      <td>0.229015</td>\n",
       "      <td>-0.069315</td>\n",
       "      <td>0.352380</td>\n",
       "      <td>-0.164871</td>\n",
       "    </tr>\n",
       "  </tbody>\n",
       "</table>\n",
       "</div>"
      ],
      "text/plain": [
       "          1         2         3         4\n",
       "0 -0.260632  0.408065  0.068337  0.294265\n",
       "1  0.516938 -0.156931  0.025718 -0.113454\n",
       "2 -0.182362  0.395564  0.121163  0.151345\n",
       "3  0.044566 -0.131207 -0.152106 -0.163608\n",
       "4  0.229015 -0.069315  0.352380 -0.164871"
      ]
     },
     "execution_count": 21,
     "metadata": {},
     "output_type": "execute_result"
    }
   ],
   "source": [
    "df.head()"
   ]
  },
  {
   "cell_type": "code",
   "execution_count": 22,
   "id": "ee4467f0",
   "metadata": {},
   "outputs": [
    {
     "data": {
      "text/html": [
       "<div>\n",
       "<style scoped>\n",
       "    .dataframe tbody tr th:only-of-type {\n",
       "        vertical-align: middle;\n",
       "    }\n",
       "\n",
       "    .dataframe tbody tr th {\n",
       "        vertical-align: top;\n",
       "    }\n",
       "\n",
       "    .dataframe thead th {\n",
       "        text-align: right;\n",
       "    }\n",
       "</style>\n",
       "<table border=\"1\" class=\"dataframe\">\n",
       "  <thead>\n",
       "    <tr style=\"text-align: right;\">\n",
       "      <th></th>\n",
       "      <th>1</th>\n",
       "      <th>2</th>\n",
       "    </tr>\n",
       "  </thead>\n",
       "  <tbody>\n",
       "    <tr>\n",
       "      <th>0</th>\n",
       "      <td>0.534356</td>\n",
       "      <td>-1.312986</td>\n",
       "    </tr>\n",
       "    <tr>\n",
       "      <th>1</th>\n",
       "      <td>-0.675131</td>\n",
       "      <td>-1.234980</td>\n",
       "    </tr>\n",
       "    <tr>\n",
       "      <th>2</th>\n",
       "      <td>-0.323683</td>\n",
       "      <td>-1.392247</td>\n",
       "    </tr>\n",
       "    <tr>\n",
       "      <th>3</th>\n",
       "      <td>-0.591762</td>\n",
       "      <td>-1.360834</td>\n",
       "    </tr>\n",
       "    <tr>\n",
       "      <th>4</th>\n",
       "      <td>0.710572</td>\n",
       "      <td>-1.381949</td>\n",
       "    </tr>\n",
       "  </tbody>\n",
       "</table>\n",
       "</div>"
      ],
      "text/plain": [
       "          1         2\n",
       "0  0.534356 -1.312986\n",
       "1 -0.675131 -1.234980\n",
       "2 -0.323683 -1.392247\n",
       "3 -0.591762 -1.360834\n",
       "4  0.710572 -1.381949"
      ]
     },
     "execution_count": 22,
     "metadata": {},
     "output_type": "execute_result"
    }
   ],
   "source": [
    "df2.head()"
   ]
  },
  {
   "cell_type": "code",
   "execution_count": null,
   "id": "c022e22f",
   "metadata": {},
   "outputs": [],
   "source": []
  }
 ],
 "metadata": {
  "kernelspec": {
   "display_name": "Python 3 (ipykernel)",
   "language": "python",
   "name": "python3"
  },
  "language_info": {
   "codemirror_mode": {
    "name": "ipython",
    "version": 3
   },
   "file_extension": ".py",
   "mimetype": "text/x-python",
   "name": "python",
   "nbconvert_exporter": "python",
   "pygments_lexer": "ipython3",
   "version": "3.11.5"
  }
 },
 "nbformat": 4,
 "nbformat_minor": 5
}
